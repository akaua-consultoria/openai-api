{
 "cells": [
  {
   "cell_type": "markdown",
   "metadata": {},
   "source": [
    "# Primeiros passos com a API da OpenAI"
   ]
  },
  {
   "cell_type": "code",
   "execution_count": 28,
   "id": "2e81b13e-1c7c-4f52-98a5-c926c01596b3",
   "metadata": {},
   "outputs": [],
   "source": [
    "import openai\n",
    "from dotenv import load_dotenv, find_dotenv"
   ]
  },
  {
   "cell_type": "markdown",
   "metadata": {},
   "source": [
    "## Importando a sua API key\n",
    "\n",
    "Antes de mais nada, se você ainda não o fez, crie um arquivo .env com a sua API key:\n",
    "\n",
    "```\n",
    "OPENAI_API_KEY = AQUI-VAI-SUA-KEY-6728DG-EDGHD37\n",
    "```"
   ]
  },
  {
   "cell_type": "code",
   "execution_count": 29,
   "id": "3c15af38-8cec-457c-8e0c-272f41dd615f",
   "metadata": {},
   "outputs": [],
   "source": [
    "# importa variáveis do .env\n",
    "_ = load_dotenv(find_dotenv())"
   ]
  },
  {
   "cell_type": "markdown",
   "metadata": {},
   "source": [
    "## Primeira requisição\n",
    "A classe `.Client()` é uma das principais é por ela que você se conectará ao modelo GPT e fará as requisições."
   ]
  },
  {
   "cell_type": "code",
   "execution_count": 30,
   "id": "b6d0515d-19d6-4c6f-bc02-ab14bc2e879e",
   "metadata": {},
   "outputs": [],
   "source": [
    "# criando client\n",
    "client = openai.Client()"
   ]
  },
  {
   "cell_type": "markdown",
   "metadata": {},
   "source": [
    "Para se comunicar com o modelo, você basicamente precisa indicar o papel (`role`) que está desempenhando e o conteúdo (`content`) que está enviando. \n",
    "Cada \"comunicação\" deve ser registrada como um dicionário e armazenada em uma lista de mensagens.\n",
    "\n",
    "Neste caso, vamos mandar uma \"mensagem\" ao GPT como se estivesse na plataforma do ChatGPT. Nosso `role` é de usuário `user` e a mensagem deve estar no `content`:"
   ]
  },
  {
   "cell_type": "code",
   "execution_count": 31,
   "id": "164c0d52-5134-48a7-8721-2db32624af76",
   "metadata": {},
   "outputs": [],
   "source": [
    "# objeto para enviar ao gpt\n",
    "mensagens = [{'role':'user',\n",
    "              'content': 'o que é uma api? descreva em poucas palavras'}]"
   ]
  },
  {
   "cell_type": "markdown",
   "metadata": {},
   "source": [
    "Além da mensagem, você precisa informar o modelo (`model`) que quer usar. Também é possível limitar o número máximo de tokens de resposta (isso te ajuda a evitar custos desnecessários) e a `temperature` do modelo, que varia de zero a dois, e controla o quão determinística a resposta do modelo será. Quando mais próximo de dois mais \"criativo\" é o modelo (mais viajado). E perto do zero, mais determinístico, e com respostas mais similares."
   ]
  },
  {
   "cell_type": "code",
   "execution_count": 32,
   "id": "4e6335fb-696d-4768-9393-3b95262074b2",
   "metadata": {},
   "outputs": [],
   "source": [
    "# fazendo a requisição\n",
    "reposta = client.chat.completions.create(messages=mensagens,\n",
    "                                         model='gpt-4o-mini-2024-07-18',\n",
    "                                         max_tokens=1000, temperature=0)"
   ]
  },
  {
   "cell_type": "code",
   "execution_count": 33,
   "id": "57e86111-9f04-423b-a290-29b37a2e97f8",
   "metadata": {},
   "outputs": [
    {
     "name": "stdout",
     "output_type": "stream",
     "text": [
      "Uma API (Interface de Programação de Aplicações) é um conjunto de regras e protocolos que permite que diferentes softwares se comuniquem entre si. Ela define como os desenvolvedores podem interagir com um serviço, biblioteca ou sistema, facilitando a integração e a troca de dados.\n"
     ]
    }
   ],
   "source": [
    "print(reposta.choices[0].message.content)"
   ]
  },
  {
   "cell_type": "markdown",
   "metadata": {},
   "source": [
    "## Criando o \"contexto\"\n",
    "Para fazer novas requisições mantendo o histórico do que já foi respondido, é necessário adicionar a resposta do modelo à lista de mensagens:"
   ]
  },
  {
   "cell_type": "code",
   "execution_count": 34,
   "id": "d8938aab-2d89-49f1-a1b7-a8234121e449",
   "metadata": {},
   "outputs": [],
   "source": [
    "# armazenando a resposta\n",
    "resp = reposta.choices[0].message.content"
   ]
  },
  {
   "cell_type": "code",
   "execution_count": 35,
   "id": "e7f9ac0c-c5ff-45ab-9574-1ea7627d5aec",
   "metadata": {},
   "outputs": [],
   "source": [
    "# adicionando a resposta do modelo nas mensagens:\n",
    "mensagens.append({'role':'assistant','content':resp})"
   ]
  },
  {
   "cell_type": "code",
   "execution_count": 36,
   "id": "f88d60ec-1e20-4752-8258-a5eff4681d0b",
   "metadata": {},
   "outputs": [],
   "source": [
    "# adicionando nova pergunta\n",
    "mensagens.append({'role':'user','content':'Me dê um exemplo simples de uso'})"
   ]
  },
  {
   "cell_type": "code",
   "execution_count": 37,
   "id": "c37be487-6b20-4b5e-9957-c9070708f5cc",
   "metadata": {},
   "outputs": [
    {
     "data": {
      "text/plain": [
       "[{'role': 'user', 'content': 'o que é uma api? descreva em poucas palavras'},\n",
       " {'role': 'assistant',\n",
       "  'content': 'Uma API (Interface de Programação de Aplicações) é um conjunto de regras e protocolos que permite que diferentes softwares se comuniquem entre si. Ela define como os desenvolvedores podem interagir com um serviço, biblioteca ou sistema, facilitando a integração e a troca de dados.'},\n",
       " {'role': 'user', 'content': 'Me dê um exemplo simples de uso'}]"
      ]
     },
     "execution_count": 37,
     "metadata": {},
     "output_type": "execute_result"
    }
   ],
   "source": [
    "# conferindo dicionário\n",
    "mensagens"
   ]
  },
  {
   "cell_type": "code",
   "execution_count": 38,
   "id": "4dff108f-d3e5-4cca-80fa-43995519f746",
   "metadata": {},
   "outputs": [],
   "source": [
    "# fazendo nova requisição\n",
    "reposta = client.chat.completions.create(messages=mensagens,\n",
    "                                         model='gpt-4o-mini-2024-07-18',\n",
    "                                         max_tokens=1000, temperature=0)"
   ]
  },
  {
   "cell_type": "code",
   "execution_count": 39,
   "id": "9600fad9-ff50-463c-b62a-66a562db0029",
   "metadata": {},
   "outputs": [
    {
     "name": "stdout",
     "output_type": "stream",
     "text": [
      "ChatCompletion(id='chatcmpl-A9JuNLiIfiOunw2Zj135Wz1imIm4Y', choices=[Choice(finish_reason='stop', index=0, logprobs=None, message=ChatCompletionMessage(content='Um exemplo simples de uso de uma API é o serviço de previsão do tempo. \\n\\nImagine que você tem um aplicativo que deseja mostrar a previsão do tempo para os usuários. Em vez de coletar e processar os dados meteorológicos por conta própria, você pode usar uma API de um serviço de meteorologia, como a OpenWeatherMap. \\n\\nAo fazer uma solicitação para a API, você pode enviar informações como a localização desejada (por exemplo, \"São Paulo\") e, em troca, receber dados estruturados sobre a previsão do tempo, como temperatura, umidade e condições climáticas. Assim, seu aplicativo pode exibir essas informações para os usuários de forma rápida e eficiente.', role='assistant', function_call=None, tool_calls=None, refusal=None))], created=1726784843, model='gpt-4o-mini-2024-07-18', object='chat.completion', system_fingerprint='fp_1bb46167f9', usage=CompletionUsage(completion_tokens=138, prompt_tokens=90, total_tokens=228, completion_tokens_details={'reasoning_tokens': 0}))\n"
     ]
    }
   ],
   "source": [
    "print(reposta)"
   ]
  },
  {
   "cell_type": "code",
   "execution_count": 40,
   "id": "4051140a-142d-4fd1-9bba-b1335b8b609a",
   "metadata": {},
   "outputs": [],
   "source": [
    "resp = reposta.choices[0].message.content"
   ]
  },
  {
   "cell_type": "code",
   "execution_count": 41,
   "id": "cfbf4a42-91af-4a2c-a95f-52441ea8865d",
   "metadata": {},
   "outputs": [
    {
     "name": "stdout",
     "output_type": "stream",
     "text": [
      "Um exemplo simples de uso de uma API é o serviço de previsão do tempo. \n",
      "\n",
      "Imagine que você tem um aplicativo que deseja mostrar a previsão do tempo para os usuários. Em vez de coletar e processar os dados meteorológicos por conta própria, você pode usar uma API de um serviço de meteorologia, como a OpenWeatherMap. \n",
      "\n",
      "Ao fazer uma solicitação para a API, você pode enviar informações como a localização desejada (por exemplo, \"São Paulo\") e, em troca, receber dados estruturados sobre a previsão do tempo, como temperatura, umidade e condições climáticas. Assim, seu aplicativo pode exibir essas informações para os usuários de forma rápida e eficiente.\n"
     ]
    }
   ],
   "source": [
    "print(resp)"
   ]
  },
  {
   "cell_type": "markdown",
   "metadata": {},
   "source": [
    "## Facilitando com uma função\n",
    "Apenas para facilitar o processo de pergunta, resposta, adicionar a pergunta à lista de respostas, podemos gerar uma função que faça tudo isso de uma vez:\n"
   ]
  },
  {
   "cell_type": "code",
   "execution_count": 42,
   "metadata": {},
   "outputs": [],
   "source": [
    "def get_gpt(client, messages,model='gpt-4o-mini-2024-07-18', max_tokens = 1000, temperature=0):\n",
    "    result = client.chat.completions.create(messages=messages,\n",
    "                                         model=model,\n",
    "                                         max_tokens=max_tokens, \n",
    "                                         temperature=temperature)\n",
    "    result = result.choices[0].message.content\n",
    "    messages.append({'role':'assistant','content':result})\n",
    "    print(result)\n",
    "    return messages"
   ]
  },
  {
   "cell_type": "code",
   "execution_count": 43,
   "metadata": {},
   "outputs": [
    {
     "name": "stdout",
     "output_type": "stream",
     "text": [
      "A Lua é o satélite natural da Terra e o quinto maior satélite do Sistema Solar. Ela orbita a Terra a uma distância média de aproximadamente 384.400 quilômetros. A Lua tem um diâmetro de cerca de 3.474 quilômetros, o que a torna um pouco mais de um quarto do tamanho da Terra.\n",
      "\n",
      "A Lua não possui atmosfera significativa, o que resulta em temperaturas extremas e na ausência de som. Sua superfície é coberta por crateras, montanhas e planícies chamadas de \"maria\", que são formadas por antigas erupções vulcânicas. A Lua também é responsável por fenômenos como as marés, devido à sua gravidade que influencia os oceanos da Terra.\n",
      "\n",
      "Culturalmente, a Lua tem um grande significado em várias civilizações, sendo associada a mitos, lendas e práticas religiosas. Além disso, a exploração lunar, especialmente a missão Apollo 11 em 1969, marcou um importante marco na história da exploração espacial, quando os humanos pisaram pela primeira vez em sua superfície.\n"
     ]
    }
   ],
   "source": [
    "# testando\n",
    "client = openai.Client()\n",
    "mensagens = [{'role':'user',\n",
    "              'content': 'o que é a lua'}]\n",
    "mensagens = get_gpt(client,mensagens)"
   ]
  },
  {
   "cell_type": "code",
   "execution_count": 44,
   "metadata": {},
   "outputs": [
    {
     "name": "stdout",
     "output_type": "stream",
     "text": [
      "[{'role': 'user', 'content': 'o que é a lua'}, {'role': 'assistant', 'content': 'A Lua é o satélite natural da Terra e o quinto maior satélite do Sistema Solar. Ela orbita a Terra a uma distância média de aproximadamente 384.400 quilômetros. A Lua tem um diâmetro de cerca de 3.474 quilômetros, o que a torna um pouco mais de um quarto do tamanho da Terra.\\n\\nA Lua não possui atmosfera significativa, o que resulta em temperaturas extremas e na ausência de som. Sua superfície é coberta por crateras, montanhas e planícies chamadas de \"maria\", que são formadas por antigas erupções vulcânicas. A Lua também é responsável por fenômenos como as marés, devido à sua gravidade que influencia os oceanos da Terra.\\n\\nCulturalmente, a Lua tem um grande significado em várias civilizações, sendo associada a mitos, lendas e práticas religiosas. Além disso, a exploração lunar, especialmente a missão Apollo 11 em 1969, marcou um importante marco na história da exploração espacial, quando os humanos pisaram pela primeira vez em sua superfície.'}]\n"
     ]
    }
   ],
   "source": [
    "# verificando as mensagens\n",
    "print(mensagens)"
   ]
  },
  {
   "cell_type": "code",
   "execution_count": 45,
   "metadata": {},
   "outputs": [
    {
     "name": "stdout",
     "output_type": "stream",
     "text": [
      "A distância média da Lua à Terra é de aproximadamente 384.400 quilômetros. Essa distância pode variar um pouco devido à órbita elíptica da Lua, que faz com que ela se aproxime e se afaste da Terra em diferentes momentos. No ponto mais próximo, chamado de perigeu, a Lua pode estar a cerca de 363.300 quilômetros da Terra, enquanto no ponto mais distante, chamado de apogeu, a distância pode chegar a cerca de 405.500 quilômetros.\n"
     ]
    }
   ],
   "source": [
    "# adicionado nova questao\n",
    "mensagens.append({'role':'user','content':'está a que distância da Terra?'})\n",
    "mensagens = get_gpt(client,mensagens)"
   ]
  },
  {
   "cell_type": "markdown",
   "metadata": {},
   "source": [
    "## Explorando a classe de resposta"
   ]
  },
  {
   "cell_type": "code",
   "execution_count": 46,
   "metadata": {},
   "outputs": [],
   "source": [
    "messages = [{'role':'user','content':'o que é um prisma'}]\n",
    "resp = client.chat.completions.create(messages=messages,\n",
    "                                         model='gpt-4o-mini-2024-07-18',\n",
    "                                         max_tokens=20, \n",
    "                                         temperature=0)"
   ]
  },
  {
   "cell_type": "code",
   "execution_count": 47,
   "metadata": {},
   "outputs": [
    {
     "name": "stdout",
     "output_type": "stream",
     "text": [
      "ChatCompletion(id='chatcmpl-A9JuVPn10wqMNLF7Ar7sZwnF3ewao', choices=[Choice(finish_reason='length', index=0, logprobs=None, message=ChatCompletionMessage(content='Um prisma é um sólido geométrico que possui duas bases paralelas e congruentes, que são', role='assistant', function_call=None, tool_calls=None, refusal=None))], created=1726784851, model='gpt-4o-mini-2024-07-18', object='chat.completion', system_fingerprint='fp_1bb46167f9', usage=CompletionUsage(completion_tokens=20, prompt_tokens=12, total_tokens=32, completion_tokens_details={'reasoning_tokens': 0}))\n"
     ]
    }
   ],
   "source": [
    "print(resp)"
   ]
  },
  {
   "cell_type": "markdown",
   "metadata": {},
   "source": [
    "Conferindo o uso de tokens das requisições:"
   ]
  },
  {
   "cell_type": "code",
   "execution_count": 48,
   "metadata": {},
   "outputs": [
    {
     "data": {
      "text/plain": [
       "CompletionUsage(completion_tokens=20, prompt_tokens=12, total_tokens=32, completion_tokens_details={'reasoning_tokens': 0})"
      ]
     },
     "execution_count": 48,
     "metadata": {},
     "output_type": "execute_result"
    }
   ],
   "source": [
    "resp.usage"
   ]
  },
  {
   "cell_type": "markdown",
   "metadata": {},
   "source": [
    "`model_dump()`"
   ]
  },
  {
   "cell_type": "code",
   "execution_count": 49,
   "metadata": {},
   "outputs": [
    {
     "data": {
      "text/plain": [
       "{'content': 'Um prisma é um sólido geométrico que possui duas bases paralelas e congruentes, que são',\n",
       " 'role': 'assistant',\n",
       " 'function_call': None,\n",
       " 'tool_calls': None,\n",
       " 'refusal': None}"
      ]
     },
     "execution_count": 49,
     "metadata": {},
     "output_type": "execute_result"
    }
   ],
   "source": [
    "# retornando a resposta no formato de dicionário\n",
    "resp.choices[0].message.model_dump()"
   ]
  },
  {
   "cell_type": "code",
   "execution_count": 50,
   "metadata": {},
   "outputs": [
    {
     "data": {
      "text/plain": [
       "{'content': 'Um prisma é um sólido geométrico que possui duas bases paralelas e congruentes, que são',\n",
       " 'role': 'assistant'}"
      ]
     },
     "execution_count": 50,
     "metadata": {},
     "output_type": "execute_result"
    }
   ],
   "source": [
    "# excluindo Nones\n",
    "resp.choices[0].message.model_dump(exclude_none=True)"
   ]
  },
  {
   "cell_type": "markdown",
   "metadata": {},
   "source": [
    "## Gerando respostas em \"tempo real\"\n",
    "É possível printar as respostas da mesma maneira que percebemos no ChatGPT, como se os textos estivessem sendo escritos em tempo real. Pra isso, usamos o parâmetro `stream = True`."
   ]
  },
  {
   "cell_type": "code",
   "execution_count": 51,
   "metadata": {},
   "outputs": [],
   "source": [
    "messages = [{'role':'user','content':'o que é um prisma'}]\n",
    "resp = client.chat.completions.create(messages=messages,\n",
    "                                         model='gpt-4o-mini-2024-07-18',\n",
    "                                         max_tokens=20, \n",
    "                                         temperature=0,\n",
    "                                         stream=True)"
   ]
  },
  {
   "cell_type": "code",
   "execution_count": 52,
   "metadata": {},
   "outputs": [
    {
     "data": {
      "text/plain": [
       "<openai.Stream at 0x1b796b639e0>"
      ]
     },
     "execution_count": 52,
     "metadata": {},
     "output_type": "execute_result"
    }
   ],
   "source": [
    "resp"
   ]
  },
  {
   "cell_type": "code",
   "execution_count": 53,
   "metadata": {},
   "outputs": [
    {
     "name": "stdout",
     "output_type": "stream",
     "text": [
      "Um prisma é um sólido geométrico que possui duas bases paralelas e congruentes, que são polígonos, e faces laterais que são paralelogramos. A forma das bases determina o tipo de prisma. Por exemplo, um prisma com bases triangulares é chamado de prisma triangular, enquanto um com bases retangulares é chamado de prisma retangular.\n",
      "\n",
      "Os prismas podem ser classificados em prismas retos, onde as faces laterais são perpendiculares às bases, e prismas oblíquos, onde as faces laterais não são perpendiculares às bases. Além disso, os prismas têm propriedades interessantes, como a conservação da área das bases e a possibilidade de calcular seu volume e área superficial com fórmulas específicas.\n",
      "\n",
      "Em resumo, um prisma é uma figura tridimensional que se destaca pela sua estrutura de bases e faces laterais, sendo um conceito importante na geometria.None"
     ]
    }
   ],
   "source": [
    "resp = client.chat.completions.create(messages=messages,\n",
    "                                         model='gpt-4o-mini-2024-07-18',\n",
    "                                         max_tokens=200, \n",
    "                                         temperature=0,\n",
    "                                         stream=True)\n",
    "for stream in resp:\n",
    "    print(stream.choices[0].delta.content, end='')"
   ]
  }
 ],
 "metadata": {
  "kernelspec": {
   "display_name": "venv",
   "language": "python",
   "name": "python3"
  },
  "language_info": {
   "codemirror_mode": {
    "name": "ipython",
    "version": 3
   },
   "file_extension": ".py",
   "mimetype": "text/x-python",
   "name": "python",
   "nbconvert_exporter": "python",
   "pygments_lexer": "ipython3",
   "version": "3.12.5"
  }
 },
 "nbformat": 4,
 "nbformat_minor": 2
}
