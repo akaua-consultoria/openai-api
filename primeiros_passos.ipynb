{
 "cells": [
  {
   "cell_type": "code",
   "execution_count": 3,
   "id": "2e81b13e-1c7c-4f52-98a5-c926c01596b3",
   "metadata": {},
   "outputs": [],
   "source": [
    "import openai\n",
    "from dotenv import load_dotenv, find_dotenv"
   ]
  },
  {
   "cell_type": "code",
   "execution_count": 4,
   "id": "3c15af38-8cec-457c-8e0c-272f41dd615f",
   "metadata": {},
   "outputs": [],
   "source": [
    "# importa variáveis do .env\n",
    "_ = load_dotenv(find_dotenv())"
   ]
  },
  {
   "cell_type": "code",
   "execution_count": null,
   "id": "b6d0515d-19d6-4c6f-bc02-ab14bc2e879e",
   "metadata": {},
   "outputs": [],
   "source": [
    "# criando client\n",
    "client = openai.Client()"
   ]
  },
  {
   "cell_type": "code",
   "execution_count": null,
   "id": "164c0d52-5134-48a7-8721-2db32624af76",
   "metadata": {},
   "outputs": [],
   "source": [
    "# objeto para enviar ao gpt\n",
    "mensagens = [{'role':'user',\n",
    "              'content': 'o que é uma api? descreva em poucas palavras'}]"
   ]
  },
  {
   "cell_type": "code",
   "execution_count": null,
   "id": "4e6335fb-696d-4768-9393-3b95262074b2",
   "metadata": {},
   "outputs": [],
   "source": [
    "# fazendo a requisição\n",
    "reposta = client.chat.completions.create(messages=mensagens,\n",
    "                                         model='gpt-4o-mini-2024-07-18',\n",
    "                                         max_tokens=1000, temperature=0)"
   ]
  },
  {
   "cell_type": "markdown",
   "metadata": {},
   "source": [
    "O parâmetro temperature mede a \"viajada\" do modelo. O máximo é 2 (bastante aleatório) e o mínimo 0, as respostas são sempre as mesmas."
   ]
  },
  {
   "cell_type": "code",
   "execution_count": null,
   "id": "57e86111-9f04-423b-a290-29b37a2e97f8",
   "metadata": {},
   "outputs": [
    {
     "name": "stdout",
     "output_type": "stream",
     "text": [
      "Uma API (Interface de Programação de Aplicações) é um conjunto de regras e protocolos que permite que diferentes softwares se comuniquem entre si. Ela define como os desenvolvedores podem interagir com um serviço, biblioteca ou sistema, facilitando a integração e a troca de dados.\n"
     ]
    }
   ],
   "source": [
    "print(reposta.choices[0].message.content)"
   ]
  },
  {
   "cell_type": "code",
   "execution_count": null,
   "id": "d8938aab-2d89-49f1-a1b7-a8234121e449",
   "metadata": {},
   "outputs": [],
   "source": [
    "# armazenando a resposta\n",
    "resp = reposta.choices[0].message.content"
   ]
  },
  {
   "cell_type": "code",
   "execution_count": null,
   "id": "e7f9ac0c-c5ff-45ab-9574-1ea7627d5aec",
   "metadata": {},
   "outputs": [],
   "source": [
    "# adicionando a resposta do modelo nas mensagens:\n",
    "mensagens.append({'role':'assistant','content':resp})"
   ]
  },
  {
   "cell_type": "code",
   "execution_count": null,
   "id": "f88d60ec-1e20-4752-8258-a5eff4681d0b",
   "metadata": {},
   "outputs": [],
   "source": [
    "# adicionando nova pergunta\n",
    "mensagens.append({'role':'user','content':'Me dê um exemplo simples de uso'})"
   ]
  },
  {
   "cell_type": "code",
   "execution_count": null,
   "id": "c37be487-6b20-4b5e-9957-c9070708f5cc",
   "metadata": {},
   "outputs": [
    {
     "data": {
      "text/plain": [
       "[{'role': 'user', 'content': 'o que é uma api? descreva em poucas palavras'},\n",
       " {'role': 'assistant',\n",
       "  'content': 'Uma API (Interface de Programação de Aplicações) é um conjunto de regras e protocolos que permite que diferentes softwares se comuniquem entre si. Ela define como os desenvolvedores podem interagir com um serviço, biblioteca ou sistema, facilitando a integração e a troca de dados.'},\n",
       " {'role': 'user', 'content': 'Me dê um exemplo simples de uso'}]"
      ]
     },
     "execution_count": 10,
     "metadata": {},
     "output_type": "execute_result"
    }
   ],
   "source": [
    "# conferindo dicionário\n",
    "mensagens"
   ]
  },
  {
   "cell_type": "code",
   "execution_count": null,
   "id": "4dff108f-d3e5-4cca-80fa-43995519f746",
   "metadata": {},
   "outputs": [],
   "source": [
    "# fazendo nova requisição\n",
    "reposta = client.chat.completions.create(messages=mensagens,\n",
    "                                         model='gpt-4o-mini-2024-07-18',\n",
    "                                         max_tokens=1000, temperature=0)"
   ]
  },
  {
   "cell_type": "code",
   "execution_count": null,
   "id": "9600fad9-ff50-463c-b62a-66a562db0029",
   "metadata": {},
   "outputs": [
    {
     "name": "stdout",
     "output_type": "stream",
     "text": [
      "ChatCompletion(id='chatcmpl-A8wGCjqz0oFqMuCUDmiqirZ9IefeB', choices=[Choice(finish_reason='stop', index=0, logprobs=None, message=ChatCompletionMessage(content='Um exemplo simples de uso de uma API é o serviço de previsão do tempo. \\n\\nImagine que você tem um aplicativo que deseja mostrar a previsão do tempo para os usuários. Em vez de coletar e processar os dados meteorológicos por conta própria, você pode usar uma API de um serviço de meteorologia, como a OpenWeatherMap. \\n\\nAo fazer uma solicitação para essa API, você pode obter informações sobre a temperatura, umidade e condições climáticas de uma determinada localização. O aplicativo então exibe esses dados para o usuário, tudo isso sem precisar entender como o serviço de meteorologia coleta ou processa as informações. \\n\\nEsse uso de API permite que você integre funcionalidades complexas de forma simples e eficiente.', role='assistant', function_call=None, tool_calls=None, refusal=None))], created=1726693940, model='gpt-4o-mini-2024-07-18', object='chat.completion', system_fingerprint='fp_58050805ed', usage=CompletionUsage(completion_tokens=145, prompt_tokens=90, total_tokens=235, completion_tokens_details={'reasoning_tokens': 0}))\n"
     ]
    }
   ],
   "source": [
    "print(reposta)"
   ]
  },
  {
   "cell_type": "code",
   "execution_count": null,
   "id": "4051140a-142d-4fd1-9bba-b1335b8b609a",
   "metadata": {},
   "outputs": [],
   "source": [
    "resp = reposta.choices[0].message.content"
   ]
  },
  {
   "cell_type": "code",
   "execution_count": null,
   "id": "cfbf4a42-91af-4a2c-a95f-52441ea8865d",
   "metadata": {},
   "outputs": [
    {
     "name": "stdout",
     "output_type": "stream",
     "text": [
      "Um exemplo simples de uso de uma API é o serviço de previsão do tempo. \n",
      "\n",
      "Imagine que você tem um aplicativo que deseja mostrar a previsão do tempo para os usuários. Em vez de coletar e processar os dados meteorológicos por conta própria, você pode usar uma API de um serviço de meteorologia, como a OpenWeatherMap. \n",
      "\n",
      "Ao fazer uma solicitação para essa API, você pode obter informações sobre a temperatura, umidade e condições climáticas de uma determinada localização. O aplicativo então exibe esses dados para o usuário, tudo isso sem precisar entender como o serviço de meteorologia coleta ou processa as informações. \n",
      "\n",
      "Esse uso de API permite que você integre funcionalidades complexas de forma simples e eficiente.\n"
     ]
    }
   ],
   "source": [
    "print(resp)"
   ]
  },
  {
   "cell_type": "markdown",
   "metadata": {},
   "source": [
    "### Facilitando com uma função\n"
   ]
  },
  {
   "cell_type": "code",
   "execution_count": 1,
   "metadata": {},
   "outputs": [],
   "source": [
    "def get_gpt(client, messages,model='gpt-4o-mini-2024-07-18', max_tokens = 1000, temperature=0):\n",
    "    result = client.chat.completions.create(messages=messages,\n",
    "                                         model=model,\n",
    "                                         max_tokens=max_tokens, \n",
    "                                         temperature=temperature)\n",
    "    result = result.choices[0].message.content\n",
    "    messages.append({'role':'assistant','content':result})\n",
    "    print(result)\n",
    "    return messages\n",
    "    \n"
   ]
  },
  {
   "cell_type": "code",
   "execution_count": 8,
   "metadata": {},
   "outputs": [
    {
     "name": "stdout",
     "output_type": "stream",
     "text": [
      "A Lua é o satélite natural da Terra e o quinto maior satélite do Sistema Solar. Ela orbita a Terra a uma distância média de aproximadamente 384.400 quilômetros. A Lua é um corpo celeste rochoso, sem atmosfera significativa, e sua superfície é marcada por crateras, mares (planícies basálticas) e montanhas.\n",
      "\n",
      "A Lua desempenha um papel importante em vários aspectos da vida na Terra, incluindo a influência nas marés devido à sua gravidade. Além disso, ela tem um impacto cultural e histórico significativo, sendo objeto de mitos, lendas e estudos científicos ao longo da história da humanidade.\n",
      "\n",
      "A Lua também é o único corpo celeste fora da Terra onde os humanos já pisaram, com as missões Apollo da NASA, que levaram astronautas à sua superfície entre 1969 e 1972. A exploração lunar continua a ser um foco de interesse para cientistas e agências espaciais ao redor do mundo.\n"
     ]
    }
   ],
   "source": [
    "# testando\n",
    "client = openai.Client()\n",
    "mensagens = [{'role':'user',\n",
    "              'content': 'o que é a lua'}]\n",
    "mensagens = get_gpt(client,mensagens)"
   ]
  },
  {
   "cell_type": "code",
   "execution_count": 9,
   "metadata": {},
   "outputs": [
    {
     "name": "stdout",
     "output_type": "stream",
     "text": [
      "[{'role': 'user', 'content': 'o que é a lua'}, {'role': 'assistant', 'content': 'A Lua é o satélite natural da Terra e o quinto maior satélite do Sistema Solar. Ela orbita a Terra a uma distância média de aproximadamente 384.400 quilômetros. A Lua é um corpo celeste rochoso, sem atmosfera significativa, e sua superfície é marcada por crateras, mares (planícies basálticas) e montanhas.\\n\\nA Lua desempenha um papel importante em vários aspectos da vida na Terra, incluindo a influência nas marés devido à sua gravidade. Além disso, ela tem um impacto cultural e histórico significativo, sendo objeto de mitos, lendas e estudos científicos ao longo da história da humanidade.\\n\\nA Lua também é o único corpo celeste fora da Terra onde os humanos já pisaram, com as missões Apollo da NASA, que levaram astronautas à sua superfície entre 1969 e 1972. A exploração lunar continua a ser um foco de interesse para cientistas e agências espaciais ao redor do mundo.'}]\n"
     ]
    }
   ],
   "source": [
    "# verificando as mensagens\n",
    "print(mensagens)"
   ]
  },
  {
   "cell_type": "code",
   "execution_count": 10,
   "metadata": {},
   "outputs": [
    {
     "name": "stdout",
     "output_type": "stream",
     "text": [
      "A distância média da Lua à Terra é de aproximadamente 384.400 quilômetros. No entanto, essa distância pode variar devido à órbita elíptica da Lua. Em seu ponto mais próximo (perigeu), a Lua pode estar a cerca de 363.300 quilômetros da Terra, enquanto em seu ponto mais distante (apogeu), pode estar a cerca de 405.500 quilômetros. Essas variações ocorrem ao longo do ciclo lunar, que leva cerca de 27,3 dias para a Lua completar uma órbita ao redor da Terra.\n"
     ]
    }
   ],
   "source": [
    "# adicionado nova questao\n",
    "mensagens.append({'role':'user','content':'está a que distância da Terra?'})\n",
    "mensagens = get_gpt(client,mensagens)"
   ]
  },
  {
   "cell_type": "markdown",
   "metadata": {},
   "source": [
    "### Explorando a classe de resposta"
   ]
  },
  {
   "cell_type": "code",
   "execution_count": 12,
   "metadata": {},
   "outputs": [],
   "source": [
    "messages = [{'role':'user','content':'o que é um prisma'}]\n",
    "resp = client.chat.completions.create(messages=messages,\n",
    "                                         model='gpt-4o-mini-2024-07-18',\n",
    "                                         max_tokens=20, \n",
    "                                         temperature=0)"
   ]
  },
  {
   "cell_type": "code",
   "execution_count": 13,
   "metadata": {},
   "outputs": [
    {
     "data": {
      "text/plain": [
       "ChatCompletion(id='chatcmpl-A8wlK02B9STvNWxAlCkTDeMjVp2kQ', choices=[Choice(finish_reason='length', index=0, logprobs=None, message=ChatCompletionMessage(content='Um prisma é um sólido geométrico que possui duas bases paralelas e congruentes, que são', role='assistant', function_call=None, tool_calls=None, refusal=None))], created=1726695870, model='gpt-4o-mini-2024-07-18', object='chat.completion', system_fingerprint='fp_2d87079ca9', usage=CompletionUsage(completion_tokens=20, prompt_tokens=12, total_tokens=32, completion_tokens_details={'reasoning_tokens': 0}))"
      ]
     },
     "execution_count": 13,
     "metadata": {},
     "output_type": "execute_result"
    }
   ],
   "source": [
    "resp"
   ]
  },
  {
   "cell_type": "code",
   "execution_count": 14,
   "metadata": {},
   "outputs": [
    {
     "data": {
      "text/plain": [
       "CompletionUsage(completion_tokens=20, prompt_tokens=12, total_tokens=32, completion_tokens_details={'reasoning_tokens': 0})"
      ]
     },
     "execution_count": 14,
     "metadata": {},
     "output_type": "execute_result"
    }
   ],
   "source": [
    "resp.usage"
   ]
  },
  {
   "cell_type": "code",
   "execution_count": 17,
   "metadata": {},
   "outputs": [
    {
     "data": {
      "text/plain": [
       "{'content': 'Um prisma é um sólido geométrico que possui duas bases paralelas e congruentes, que são',\n",
       " 'role': 'assistant',\n",
       " 'function_call': None,\n",
       " 'tool_calls': None,\n",
       " 'refusal': None}"
      ]
     },
     "execution_count": 17,
     "metadata": {},
     "output_type": "execute_result"
    }
   ],
   "source": [
    "# retornando a resposta no formato de dicionário\n",
    "resp.choices[0].message.model_dump()"
   ]
  },
  {
   "cell_type": "code",
   "execution_count": 19,
   "metadata": {},
   "outputs": [
    {
     "data": {
      "text/plain": [
       "{'content': 'Um prisma é um sólido geométrico que possui duas bases paralelas e congruentes, que são',\n",
       " 'role': 'assistant'}"
      ]
     },
     "execution_count": 19,
     "metadata": {},
     "output_type": "execute_result"
    }
   ],
   "source": [
    "# excluindo Nones\n",
    "resp.choices[0].message.model_dump(exclude_none=True)"
   ]
  },
  {
   "cell_type": "markdown",
   "metadata": {},
   "source": [
    "### Gerando respostas em \"tempo real\"\n",
    "stream = True"
   ]
  },
  {
   "cell_type": "code",
   "execution_count": 29,
   "metadata": {},
   "outputs": [],
   "source": [
    "messages = [{'role':'user','content':'o que é um prisma'}]\n",
    "resp = client.chat.completions.create(messages=messages,\n",
    "                                         model='gpt-4o-mini-2024-07-18',\n",
    "                                         max_tokens=20, \n",
    "                                         temperature=0,\n",
    "                                         stream=True)"
   ]
  },
  {
   "cell_type": "code",
   "execution_count": 30,
   "metadata": {},
   "outputs": [
    {
     "data": {
      "text/plain": [
       "<openai.Stream at 0x1db01496db0>"
      ]
     },
     "execution_count": 30,
     "metadata": {},
     "output_type": "execute_result"
    }
   ],
   "source": [
    "resp"
   ]
  },
  {
   "cell_type": "code",
   "execution_count": 28,
   "metadata": {},
   "outputs": [
    {
     "name": "stdout",
     "output_type": "stream",
     "text": [
      "Um prisma é um sólido geométrico que possui duas bases paralelas e congruentes, que são polígonos, e faces laterais que são paralelogramos. A forma das bases determina o tipo de prisma. Por exemplo, se as bases são triângulos, o prisma é chamado de prisma triangular; se as bases são quadrados, é um prisma quadrado, e assim por diante.\n",
      "\n",
      "Os prismas podem ser classificados em prismas retos, quando as faces laterais são perpendiculares às bases, e prismas oblíquos, quando as faces laterais não são perpendiculares às bases. Além disso, os prismas têm várias propriedades interessantes, como volume e área da superfície, que podem ser calculadas com base nas dimensões das bases e na altura do prisma. \n",
      "\n",
      "Os prismas são frequentemente estudados em geometria e têm aplicações em diversas áreas, como arquitetura, engenharia e design.None"
     ]
    }
   ],
   "source": [
    "resp = client.chat.completions.create(messages=messages,\n",
    "                                         model='gpt-4o-mini-2024-07-18',\n",
    "                                         max_tokens=200, \n",
    "                                         temperature=0,\n",
    "                                         stream=True)\n",
    "for stream in resp:\n",
    "    print(stream.choices[0].delta.content, end='')"
   ]
  }
 ],
 "metadata": {
  "kernelspec": {
   "display_name": "venv",
   "language": "python",
   "name": "python3"
  },
  "language_info": {
   "codemirror_mode": {
    "name": "ipython",
    "version": 3
   },
   "file_extension": ".py",
   "mimetype": "text/x-python",
   "name": "python",
   "nbconvert_exporter": "python",
   "pygments_lexer": "ipython3",
   "version": "3.12.5"
  }
 },
 "nbformat": 4,
 "nbformat_minor": 2
}
