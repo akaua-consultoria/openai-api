{
 "cells": [
  {
   "cell_type": "markdown",
   "metadata": {},
   "source": [
    "# Usando dados estruturados externos (próprios) nos modelos\n",
    "Aqui, iremos entender como utilizar bases de dados para alimentar o modelo e ter respostas mais específicas e atualizadas.\n",
    "\n",
    "A mudança em relação ao que vimos anteriormente é apenas traduzir um banco de dados estruturado em uma linguagem que o modelo poderá entender.\n",
    "Ou seja, como alterar a função que passaremos como `tool`."
   ]
  },
  {
   "cell_type": "code",
   "execution_count": 63,
   "metadata": {},
   "outputs": [],
   "source": [
    "# preparando ambiente\n",
    "import openai\n",
    "from dotenv import load_dotenv, find_dotenv\n",
    "import json\n",
    "import yfinance as yf # biblioteca da api de dados financeiros da yahoo\n",
    "# import pandas as pd\n",
    "\n",
    "# client\n",
    "_ = load_dotenv(find_dotenv())\n",
    "client = openai.Client()"
   ]
  },
  {
   "cell_type": "markdown",
   "metadata": {},
   "source": [
    "## Importando dados financeiros\n",
    "Antes de mais nada, vamos entender como funciona a biblioteca `yfinance`.\n",
    "\n",
    "As ações são identificados por códigos (por exemplo PETR4, da Petrobras), utilizamos esse código para importar dados dessas ações:"
   ]
  },
  {
   "cell_type": "code",
   "execution_count": 13,
   "metadata": {},
   "outputs": [
    {
     "data": {
      "text/plain": [
       "yfinance.Ticker object <PETR4.SA>"
      ]
     },
     "execution_count": 13,
     "metadata": {},
     "output_type": "execute_result"
    }
   ],
   "source": [
    "# objeto da classe ticker\n",
    "ticker_obj = yf.Ticker(f'{'PETR4'}.SA')\n",
    "ticker_obj"
   ]
  },
  {
   "cell_type": "markdown",
   "metadata": {},
   "source": [
    "Podemos usar o método `.history()` para pegar os dados históricos, do último mês, por exemplo. Esse método devolve um df:"
   ]
  },
  {
   "cell_type": "code",
   "execution_count": 51,
   "metadata": {},
   "outputs": [
    {
     "data": {
      "text/plain": [
       "pandas.core.frame.DataFrame"
      ]
     },
     "execution_count": 51,
     "metadata": {},
     "output_type": "execute_result"
    }
   ],
   "source": [
    "hist = ticker_obj.history(period='1mo')\n",
    "type(hist)"
   ]
  },
  {
   "cell_type": "code",
   "execution_count": 52,
   "metadata": {},
   "outputs": [
    {
     "data": {
      "text/html": [
       "<div>\n",
       "<style scoped>\n",
       "    .dataframe tbody tr th:only-of-type {\n",
       "        vertical-align: middle;\n",
       "    }\n",
       "\n",
       "    .dataframe tbody tr th {\n",
       "        vertical-align: top;\n",
       "    }\n",
       "\n",
       "    .dataframe thead th {\n",
       "        text-align: right;\n",
       "    }\n",
       "</style>\n",
       "<table border=\"1\" class=\"dataframe\">\n",
       "  <thead>\n",
       "    <tr style=\"text-align: right;\">\n",
       "      <th></th>\n",
       "      <th>Open</th>\n",
       "      <th>High</th>\n",
       "      <th>Low</th>\n",
       "      <th>Close</th>\n",
       "      <th>Volume</th>\n",
       "      <th>Dividends</th>\n",
       "      <th>Stock Splits</th>\n",
       "    </tr>\n",
       "    <tr>\n",
       "      <th>Date</th>\n",
       "      <th></th>\n",
       "      <th></th>\n",
       "      <th></th>\n",
       "      <th></th>\n",
       "      <th></th>\n",
       "      <th></th>\n",
       "      <th></th>\n",
       "    </tr>\n",
       "  </thead>\n",
       "  <tbody>\n",
       "    <tr>\n",
       "      <th>2024-08-19 00:00:00-03:00</th>\n",
       "      <td>37.531854</td>\n",
       "      <td>37.716599</td>\n",
       "      <td>37.337391</td>\n",
       "      <td>37.376282</td>\n",
       "      <td>28138200</td>\n",
       "      <td>0.0000</td>\n",
       "      <td>0.0</td>\n",
       "    </tr>\n",
       "    <tr>\n",
       "      <th>2024-08-20 00:00:00-03:00</th>\n",
       "      <td>37.434622</td>\n",
       "      <td>37.609642</td>\n",
       "      <td>36.841502</td>\n",
       "      <td>37.230434</td>\n",
       "      <td>27322600</td>\n",
       "      <td>0.0000</td>\n",
       "      <td>0.0</td>\n",
       "    </tr>\n",
       "    <tr>\n",
       "      <th>2024-08-21 00:00:00-03:00</th>\n",
       "      <td>37.609644</td>\n",
       "      <td>37.716601</td>\n",
       "      <td>36.890120</td>\n",
       "      <td>37.006802</td>\n",
       "      <td>38491900</td>\n",
       "      <td>0.0000</td>\n",
       "      <td>0.0</td>\n",
       "    </tr>\n",
       "    <tr>\n",
       "      <th>2024-08-22 00:00:00-03:00</th>\n",
       "      <td>37.279999</td>\n",
       "      <td>37.299999</td>\n",
       "      <td>36.860001</td>\n",
       "      <td>37.119999</td>\n",
       "      <td>26334300</td>\n",
       "      <td>1.0532</td>\n",
       "      <td>0.0</td>\n",
       "    </tr>\n",
       "    <tr>\n",
       "      <th>2024-08-23 00:00:00-03:00</th>\n",
       "      <td>37.369999</td>\n",
       "      <td>37.529999</td>\n",
       "      <td>36.889999</td>\n",
       "      <td>36.889999</td>\n",
       "      <td>29239000</td>\n",
       "      <td>0.0000</td>\n",
       "      <td>0.0</td>\n",
       "    </tr>\n",
       "  </tbody>\n",
       "</table>\n",
       "</div>"
      ],
      "text/plain": [
       "                                Open       High        Low      Close  \\\n",
       "Date                                                                    \n",
       "2024-08-19 00:00:00-03:00  37.531854  37.716599  37.337391  37.376282   \n",
       "2024-08-20 00:00:00-03:00  37.434622  37.609642  36.841502  37.230434   \n",
       "2024-08-21 00:00:00-03:00  37.609644  37.716601  36.890120  37.006802   \n",
       "2024-08-22 00:00:00-03:00  37.279999  37.299999  36.860001  37.119999   \n",
       "2024-08-23 00:00:00-03:00  37.369999  37.529999  36.889999  36.889999   \n",
       "\n",
       "                             Volume  Dividends  Stock Splits  \n",
       "Date                                                          \n",
       "2024-08-19 00:00:00-03:00  28138200     0.0000           0.0  \n",
       "2024-08-20 00:00:00-03:00  27322600     0.0000           0.0  \n",
       "2024-08-21 00:00:00-03:00  38491900     0.0000           0.0  \n",
       "2024-08-22 00:00:00-03:00  26334300     1.0532           0.0  \n",
       "2024-08-23 00:00:00-03:00  29239000     0.0000           0.0  "
      ]
     },
     "execution_count": 52,
     "metadata": {},
     "output_type": "execute_result"
    }
   ],
   "source": [
    "hist.head()"
   ]
  },
  {
   "cell_type": "code",
   "execution_count": 53,
   "metadata": {},
   "outputs": [
    {
     "data": {
      "text/plain": [
       "Index(['Open', 'High', 'Low', 'Close', 'Volume', 'Dividends', 'Stock Splits'], dtype='object')"
      ]
     },
     "execution_count": 53,
     "metadata": {},
     "output_type": "execute_result"
    }
   ],
   "source": [
    "hist.columns"
   ]
  },
  {
   "cell_type": "code",
   "execution_count": 54,
   "metadata": {},
   "outputs": [
    {
     "name": "stdout",
     "output_type": "stream",
     "text": [
      "2024-08-19 00:00:00-03:00 2024-09-19 00:00:00-03:00\n"
     ]
    }
   ],
   "source": [
    "print(min(hist.index),max(hist.index))"
   ]
  },
  {
   "cell_type": "markdown",
   "metadata": {},
   "source": [
    "Para simplificar, vamos trabalhar apenas com os valores de 'Close':"
   ]
  },
  {
   "cell_type": "code",
   "execution_count": 55,
   "metadata": {},
   "outputs": [
    {
     "data": {
      "text/plain": [
       "Date\n",
       "2024-08-19 00:00:00-03:00    37.376282\n",
       "2024-08-20 00:00:00-03:00    37.230434\n",
       "2024-08-21 00:00:00-03:00    37.006802\n",
       "2024-08-22 00:00:00-03:00    37.119999\n",
       "2024-08-23 00:00:00-03:00    36.889999\n",
       "Name: Close, dtype: float64"
      ]
     },
     "execution_count": 55,
     "metadata": {},
     "output_type": "execute_result"
    }
   ],
   "source": [
    "hist = hist['Close']\n",
    "hist.head()"
   ]
  },
  {
   "cell_type": "code",
   "execution_count": 56,
   "metadata": {},
   "outputs": [
    {
     "data": {
      "text/plain": [
       "Date\n",
       "2024-08-19    37.376282\n",
       "2024-08-20    37.230434\n",
       "2024-08-21    37.006802\n",
       "2024-08-22    37.119999\n",
       "2024-08-23    36.889999\n",
       "Name: Close, dtype: float64"
      ]
     },
     "execution_count": 56,
     "metadata": {},
     "output_type": "execute_result"
    }
   ],
   "source": [
    "# alterando o formato das datas do index\n",
    "hist.index = hist.index.strftime('%Y-%m-%d')\n",
    "hist.head()"
   ]
  },
  {
   "cell_type": "code",
   "execution_count": 57,
   "metadata": {},
   "outputs": [
    {
     "data": {
      "text/plain": [
       "Date\n",
       "2024-08-19    37.38\n",
       "2024-08-20    37.23\n",
       "2024-08-21    37.01\n",
       "2024-08-22    37.12\n",
       "2024-08-23    36.89\n",
       "Name: Close, dtype: float64"
      ]
     },
     "execution_count": 57,
     "metadata": {},
     "output_type": "execute_result"
    }
   ],
   "source": [
    "# arredondando os valores\n",
    "hist = round(hist, 2)\n",
    "hist.head()"
   ]
  },
  {
   "cell_type": "markdown",
   "metadata": {},
   "source": [
    "Transformando o df em um json (uma string de um dicionário com \"chave\":valor - `\"data\":preço`)"
   ]
  },
  {
   "cell_type": "code",
   "execution_count": 59,
   "metadata": {},
   "outputs": [
    {
     "data": {
      "text/plain": [
       "'{\"2024-08-19\":37.38,\"2024-08-20\":37.23,\"2024-08-21\":37.01,\"2024-08-22\":37.12,\"2024-08-23\":36.89,\"2024-08-26\":39.57,\"2024-08-27\":39.04,\"2024-08-28\":39.6,\"2024-08-29\":39.33,\"2024-08-30\":39.37,\"2024-09-02\":39.0,\"2024-09-03\":38.53,\"2024-09-04\":38.54,\"2024-09-05\":38.3,\"2024-09-06\":37.55,\"2024-09-09\":37.96,\"2024-09-10\":37.33,\"2024-09-11\":37.29,\"2024-09-12\":36.87,\"2024-09-13\":36.7,\"2024-09-16\":37.21,\"2024-09-17\":37.04,\"2024-09-18\":36.15,\"2024-09-19\":36.27}'"
      ]
     },
     "execution_count": 59,
     "metadata": {},
     "output_type": "execute_result"
    }
   ],
   "source": [
    "hist = hist.to_json()\n",
    "hist"
   ]
  },
  {
   "cell_type": "code",
   "execution_count": 60,
   "metadata": {},
   "outputs": [
    {
     "data": {
      "text/plain": [
       "str"
      ]
     },
     "execution_count": 60,
     "metadata": {},
     "output_type": "execute_result"
    }
   ],
   "source": [
    "type(hist)"
   ]
  },
  {
   "cell_type": "markdown",
   "metadata": {},
   "source": [
    "## Criando a função para ser uma tool do modelo\n",
    "Agora que entendemos como os dados são fornecidos pela API e os transformamos em um json, precisamos criar uma função que retorne os valores históricos quando necessário."
   ]
  },
  {
   "cell_type": "code",
   "execution_count": 64,
   "metadata": {},
   "outputs": [],
   "source": [
    "# 1. Criar as funções de apoio \n",
    "# usando a api do yahoo para conseguir dados financeiros:\n",
    "def retorna_cotacao_acao_historica(ticker,periodo='1mo'):\n",
    "    ticker_obj = yf.Ticker(f'{ticker}.SA')\n",
    "    hist = ticker_obj.history(period=periodo)['Close']\n",
    "    hist.index = hist.index.strftime('%Y-%m-%d')\n",
    "    hist = round(hist, 2)\n",
    "    # diminuindo o dataframe\n",
    "    if len(hist) > 30:\n",
    "        slice_size = int(len(hist) / 30)\n",
    "        hist = hist.iloc[::-slice_size][::-1]\n",
    "    return hist.to_json()\n",
    "\n",
    "# 2. Adicionar as funções à uma lista `tools`\n",
    "tools = [\n",
    "    {\n",
    "        'type': 'function',\n",
    "        'function': {\n",
    "            'name': 'retorna_cotacao_acao_historica',\n",
    "            'description': 'Retorna a cotação diária histórica para uma ação da bovespa',\n",
    "            'parameters': {\n",
    "                'type': 'object',\n",
    "                'properties': {\n",
    "                    'ticker': {\n",
    "                        'type': 'string',\n",
    "                        'description': 'O ticker da ação. Exemplo: \"ABEV3\" para ambev, \"PETR4\" para petrobras, etc'\n",
    "                    },\n",
    "                    'periodo': {\n",
    "                        'type': 'string',\n",
    "                        'description': 'O período que será retornado de dados históriocos \\\n",
    "                                        sendo \"1mo\" equivalente a um mês de dados, \"1d\" a \\\n",
    "                                        1 dia e \"1y\" a 1 ano',\n",
    "                        'enum': [\"1d\",\"5d\",\"1mo\",\"6mo\",\"1y\",\"5y\",\"10y\",\"ytd\",\"max\"]\n",
    "                    }\n",
    "                }\n",
    "            }\n",
    "        }\n",
    "    }\n",
    "\n",
    "]\n",
    "\n",
    "# 3. Criar um dicionário com `function_name:function`\n",
    "funcoes_disponiveis = {'retorna_cotacao_acao_historica': retorna_cotacao_acao_historica}"
   ]
  },
  {
   "cell_type": "markdown",
   "metadata": {},
   "source": [
    "## Testando\n",
    "Vamos usar o resumo do notebook anterior"
   ]
  },
  {
   "cell_type": "code",
   "execution_count": 77,
   "metadata": {},
   "outputs": [
    {
     "name": "stdout",
     "output_type": "stream",
     "text": [
      "A cotação da ação da Petrobras (PETR4) agora é de R$ 36,27.\n"
     ]
    }
   ],
   "source": [
    "# 4. Criar o objeto `messages` com a mensagem inicial\n",
    "messages = [{'role':'user','content':'Qual é a cotação da petrobras agora?'}]\n",
    "\n",
    "# 5. Fazer a requisição com o parâmetro `tools`\n",
    "resposta = client.chat.completions.create(\n",
    "    model=\"gpt-4o-mini-2024-07-18\",\n",
    "    tools=tools,\n",
    "    tool_choice='auto',\n",
    "    messages=messages,\n",
    "    max_tokens=100, \n",
    "    temperature=0,\n",
    ")\n",
    "\n",
    "message_resp = resposta.choices[0].message\n",
    "tool_calls = message_resp.tool_calls\n",
    "\n",
    "# 6. Se houver solicitação do modelo para rodar funções:\n",
    "if tool_calls:\n",
    "    # 6.1 Adicionar a resposta ao `messages`\n",
    "    messages.append(message_resp)\n",
    "    # 6.2 Rodar as funções para cada chamada `tool_calls` solicitada pelo modelo e ...\n",
    "    for tool_call in tool_calls:\n",
    "        function_name = tool_call.function.name\n",
    "        function_to_call = funcoes_disponiveis[function_name]\n",
    "        function_args = json.loads(tool_call.function.arguments)\n",
    "        function_response = function_to_call(**function_args)\n",
    "        # ... adicionar as respostas ao `messages`\n",
    "        messages.append(\n",
    "            {\n",
    "                \"tool_call_id\": tool_call.id,\n",
    "                \"role\": \"tool\",\n",
    "                \"name\": function_name,\n",
    "                \"content\": function_response,\n",
    "            }\n",
    "        )\n",
    "\n",
    "\n",
    "# 7. Refazer a requisição\n",
    "nova_resposta = client.chat.completions.create(\n",
    "        model=\"gpt-4o-mini-2024-07-18\",\n",
    "        messages=messages,\n",
    "        max_tokens=100, \n",
    "        temperature=0,\n",
    "    )\n",
    "\n",
    "# 8. Ler a resposta\n",
    "print(nova_resposta.choices[0].message.content)"
   ]
  },
  {
   "cell_type": "code",
   "execution_count": null,
   "metadata": {},
   "outputs": [],
   "source": []
  }
 ],
 "metadata": {
  "kernelspec": {
   "display_name": "venv",
   "language": "python",
   "name": "python3"
  },
  "language_info": {
   "codemirror_mode": {
    "name": "ipython",
    "version": 3
   },
   "file_extension": ".py",
   "mimetype": "text/x-python",
   "name": "python",
   "nbconvert_exporter": "python",
   "pygments_lexer": "ipython3",
   "version": "3.12.5"
  }
 },
 "nbformat": 4,
 "nbformat_minor": 2
}
